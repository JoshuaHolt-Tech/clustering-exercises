{
 "cells": [
  {
   "cell_type": "code",
   "execution_count": 1,
   "id": "fbc57b41-7afb-433c-a102-bb08b7ae527c",
   "metadata": {},
   "outputs": [],
   "source": [
    "import pandas as pd\n",
    "import numpy as np\n",
    "import env\n",
    "\n",
    "import pandas as pd\n",
    "import numpy as np\n",
    "\n",
    "import matplotlib.pyplot as plt\n",
    "import seaborn as sns\n",
    "\n",
    "from sklearn.cluster import KMeans\n",
    "\n",
    "import env\n",
    "import acquire\n",
    "import prepare"
   ]
  },
  {
   "cell_type": "code",
   "execution_count": 2,
   "id": "7bbbc9cd-a117-46a2-99f6-d7cb968810c6",
   "metadata": {},
   "outputs": [],
   "source": [
    "df = acquire.wrangle_mall()"
   ]
  },
  {
   "cell_type": "code",
   "execution_count": 3,
   "id": "1b4414b4-7e4d-48c2-873e-1fa0f5b98ae6",
   "metadata": {},
   "outputs": [
    {
     "name": "stdout",
     "output_type": "stream",
     "text": [
      "<class 'pandas.core.frame.DataFrame'>\n",
      "RangeIndex: 200 entries, 0 to 199\n",
      "Data columns (total 5 columns):\n",
      " #   Column          Non-Null Count  Dtype \n",
      "---  ------          --------------  ----- \n",
      " 0   customer_id     200 non-null    int64 \n",
      " 1   gender          200 non-null    object\n",
      " 2   age             200 non-null    int64 \n",
      " 3   annual_income   200 non-null    int64 \n",
      " 4   spending_score  200 non-null    int64 \n",
      "dtypes: int64(4), object(1)\n",
      "memory usage: 7.9+ KB\n"
     ]
    }
   ],
   "source": [
    "df.info()"
   ]
  },
  {
   "cell_type": "code",
   "execution_count": 4,
   "id": "6ba6e28d-7b41-46d2-b35d-21e7d09b9f68",
   "metadata": {},
   "outputs": [
    {
     "data": {
      "text/html": [
       "<div>\n",
       "<style scoped>\n",
       "    .dataframe tbody tr th:only-of-type {\n",
       "        vertical-align: middle;\n",
       "    }\n",
       "\n",
       "    .dataframe tbody tr th {\n",
       "        vertical-align: top;\n",
       "    }\n",
       "\n",
       "    .dataframe thead th {\n",
       "        text-align: right;\n",
       "    }\n",
       "</style>\n",
       "<table border=\"1\" class=\"dataframe\">\n",
       "  <thead>\n",
       "    <tr style=\"text-align: right;\">\n",
       "      <th></th>\n",
       "      <th>customer_id</th>\n",
       "      <th>age</th>\n",
       "      <th>annual_income</th>\n",
       "      <th>spending_score</th>\n",
       "    </tr>\n",
       "  </thead>\n",
       "  <tbody>\n",
       "    <tr>\n",
       "      <th>count</th>\n",
       "      <td>200.000000</td>\n",
       "      <td>200.000000</td>\n",
       "      <td>200.000000</td>\n",
       "      <td>200.000000</td>\n",
       "    </tr>\n",
       "    <tr>\n",
       "      <th>mean</th>\n",
       "      <td>100.500000</td>\n",
       "      <td>38.850000</td>\n",
       "      <td>60.560000</td>\n",
       "      <td>50.200000</td>\n",
       "    </tr>\n",
       "    <tr>\n",
       "      <th>std</th>\n",
       "      <td>57.879185</td>\n",
       "      <td>13.969007</td>\n",
       "      <td>26.264721</td>\n",
       "      <td>25.823522</td>\n",
       "    </tr>\n",
       "    <tr>\n",
       "      <th>min</th>\n",
       "      <td>1.000000</td>\n",
       "      <td>18.000000</td>\n",
       "      <td>15.000000</td>\n",
       "      <td>1.000000</td>\n",
       "    </tr>\n",
       "    <tr>\n",
       "      <th>25%</th>\n",
       "      <td>50.750000</td>\n",
       "      <td>28.750000</td>\n",
       "      <td>41.500000</td>\n",
       "      <td>34.750000</td>\n",
       "    </tr>\n",
       "    <tr>\n",
       "      <th>50%</th>\n",
       "      <td>100.500000</td>\n",
       "      <td>36.000000</td>\n",
       "      <td>61.500000</td>\n",
       "      <td>50.000000</td>\n",
       "    </tr>\n",
       "    <tr>\n",
       "      <th>75%</th>\n",
       "      <td>150.250000</td>\n",
       "      <td>49.000000</td>\n",
       "      <td>78.000000</td>\n",
       "      <td>73.000000</td>\n",
       "    </tr>\n",
       "    <tr>\n",
       "      <th>max</th>\n",
       "      <td>200.000000</td>\n",
       "      <td>70.000000</td>\n",
       "      <td>137.000000</td>\n",
       "      <td>99.000000</td>\n",
       "    </tr>\n",
       "  </tbody>\n",
       "</table>\n",
       "</div>"
      ],
      "text/plain": [
       "       customer_id         age  annual_income  spending_score\n",
       "count   200.000000  200.000000     200.000000      200.000000\n",
       "mean    100.500000   38.850000      60.560000       50.200000\n",
       "std      57.879185   13.969007      26.264721       25.823522\n",
       "min       1.000000   18.000000      15.000000        1.000000\n",
       "25%      50.750000   28.750000      41.500000       34.750000\n",
       "50%     100.500000   36.000000      61.500000       50.000000\n",
       "75%     150.250000   49.000000      78.000000       73.000000\n",
       "max     200.000000   70.000000     137.000000       99.000000"
      ]
     },
     "execution_count": 4,
     "metadata": {},
     "output_type": "execute_result"
    }
   ],
   "source": [
    "df.describe()"
   ]
  },
  {
   "cell_type": "code",
   "execution_count": 5,
   "id": "6ea3a086-267e-4304-976a-03c32bff289a",
   "metadata": {},
   "outputs": [
    {
     "data": {
      "text/plain": [
       "(200, 5)"
      ]
     },
     "execution_count": 5,
     "metadata": {},
     "output_type": "execute_result"
    }
   ],
   "source": [
    "df.shape"
   ]
  },
  {
   "cell_type": "code",
   "execution_count": 6,
   "id": "6d85d860-d83f-402f-8ed1-99a0ed62009e",
   "metadata": {},
   "outputs": [],
   "source": [
    "cols = df.columns.to_list()\n",
    "\n",
    "#for col in cols:\n",
    "    #plt.hist(df[col])"
   ]
  },
  {
   "cell_type": "code",
   "execution_count": 7,
   "id": "5fcfe42b-e7bd-4559-ab9b-35e06460c7fc",
   "metadata": {},
   "outputs": [],
   "source": [
    "#q1, q3 = df['spending_score'].quantile([0.25, 0.75])\n",
    "#q1, q3"
   ]
  },
  {
   "cell_type": "code",
   "execution_count": 8,
   "id": "c63bbf17-5c36-49e4-9e78-097f499ab8d9",
   "metadata": {},
   "outputs": [],
   "source": [
    "k=1.5\n",
    "#column"
   ]
  },
  {
   "cell_type": "code",
   "execution_count": 9,
   "id": "f856a933-d824-4084-84c0-eb56eecf3f23",
   "metadata": {},
   "outputs": [],
   "source": [
    "q1, q3  = df['annual_income'].quantile(q=[0.25, 0.75])\n",
    "iqr = q3 - q1"
   ]
  },
  {
   "cell_type": "code",
   "execution_count": 10,
   "id": "5f2d660f-7d09-4cdc-a624-75dcc7703afd",
   "metadata": {},
   "outputs": [],
   "source": [
    "lower_bound = q1 - (k * iqr)\n",
    "upper_bound = q3 + (k * iqr)"
   ]
  },
  {
   "cell_type": "code",
   "execution_count": 11,
   "id": "acde7aad-d4cc-4b66-a5c4-1e6d691897e8",
   "metadata": {},
   "outputs": [],
   "source": [
    "high_items = df['annual_income'] > upper_bound\n",
    "low_items = df['annual_income'] < lower_bound"
   ]
  },
  {
   "cell_type": "code",
   "execution_count": 12,
   "id": "8a73a057-83e4-4ed0-83eb-45c57c1f1cbe",
   "metadata": {},
   "outputs": [
    {
     "data": {
      "text/html": [
       "<div>\n",
       "<style scoped>\n",
       "    .dataframe tbody tr th:only-of-type {\n",
       "        vertical-align: middle;\n",
       "    }\n",
       "\n",
       "    .dataframe tbody tr th {\n",
       "        vertical-align: top;\n",
       "    }\n",
       "\n",
       "    .dataframe thead th {\n",
       "        text-align: right;\n",
       "    }\n",
       "</style>\n",
       "<table border=\"1\" class=\"dataframe\">\n",
       "  <thead>\n",
       "    <tr style=\"text-align: right;\">\n",
       "      <th></th>\n",
       "      <th>customer_id</th>\n",
       "      <th>gender</th>\n",
       "      <th>age</th>\n",
       "      <th>annual_income</th>\n",
       "      <th>spending_score</th>\n",
       "    </tr>\n",
       "  </thead>\n",
       "  <tbody>\n",
       "    <tr>\n",
       "      <th>0</th>\n",
       "      <td>1</td>\n",
       "      <td>Male</td>\n",
       "      <td>19</td>\n",
       "      <td>15</td>\n",
       "      <td>39</td>\n",
       "    </tr>\n",
       "    <tr>\n",
       "      <th>1</th>\n",
       "      <td>2</td>\n",
       "      <td>Male</td>\n",
       "      <td>21</td>\n",
       "      <td>15</td>\n",
       "      <td>81</td>\n",
       "    </tr>\n",
       "    <tr>\n",
       "      <th>2</th>\n",
       "      <td>3</td>\n",
       "      <td>Female</td>\n",
       "      <td>20</td>\n",
       "      <td>16</td>\n",
       "      <td>6</td>\n",
       "    </tr>\n",
       "    <tr>\n",
       "      <th>3</th>\n",
       "      <td>4</td>\n",
       "      <td>Female</td>\n",
       "      <td>23</td>\n",
       "      <td>16</td>\n",
       "      <td>77</td>\n",
       "    </tr>\n",
       "    <tr>\n",
       "      <th>4</th>\n",
       "      <td>5</td>\n",
       "      <td>Female</td>\n",
       "      <td>31</td>\n",
       "      <td>17</td>\n",
       "      <td>40</td>\n",
       "    </tr>\n",
       "    <tr>\n",
       "      <th>...</th>\n",
       "      <td>...</td>\n",
       "      <td>...</td>\n",
       "      <td>...</td>\n",
       "      <td>...</td>\n",
       "      <td>...</td>\n",
       "    </tr>\n",
       "    <tr>\n",
       "      <th>193</th>\n",
       "      <td>194</td>\n",
       "      <td>Female</td>\n",
       "      <td>38</td>\n",
       "      <td>113</td>\n",
       "      <td>91</td>\n",
       "    </tr>\n",
       "    <tr>\n",
       "      <th>194</th>\n",
       "      <td>195</td>\n",
       "      <td>Female</td>\n",
       "      <td>47</td>\n",
       "      <td>120</td>\n",
       "      <td>16</td>\n",
       "    </tr>\n",
       "    <tr>\n",
       "      <th>195</th>\n",
       "      <td>196</td>\n",
       "      <td>Female</td>\n",
       "      <td>35</td>\n",
       "      <td>120</td>\n",
       "      <td>79</td>\n",
       "    </tr>\n",
       "    <tr>\n",
       "      <th>196</th>\n",
       "      <td>197</td>\n",
       "      <td>Female</td>\n",
       "      <td>45</td>\n",
       "      <td>126</td>\n",
       "      <td>28</td>\n",
       "    </tr>\n",
       "    <tr>\n",
       "      <th>197</th>\n",
       "      <td>198</td>\n",
       "      <td>Male</td>\n",
       "      <td>32</td>\n",
       "      <td>126</td>\n",
       "      <td>74</td>\n",
       "    </tr>\n",
       "  </tbody>\n",
       "</table>\n",
       "<p>198 rows × 5 columns</p>\n",
       "</div>"
      ],
      "text/plain": [
       "     customer_id  gender  age  annual_income  spending_score\n",
       "0              1    Male   19             15              39\n",
       "1              2    Male   21             15              81\n",
       "2              3  Female   20             16               6\n",
       "3              4  Female   23             16              77\n",
       "4              5  Female   31             17              40\n",
       "..           ...     ...  ...            ...             ...\n",
       "193          194  Female   38            113              91\n",
       "194          195  Female   47            120              16\n",
       "195          196  Female   35            120              79\n",
       "196          197  Female   45            126              28\n",
       "197          198    Male   32            126              74\n",
       "\n",
       "[198 rows x 5 columns]"
      ]
     },
     "execution_count": 12,
     "metadata": {},
     "output_type": "execute_result"
    }
   ],
   "source": [
    "df[~high_items & ~low_items]"
   ]
  },
  {
   "cell_type": "code",
   "execution_count": 13,
   "id": "a1fb6ac6-c174-4fd6-9599-3ac918ab6723",
   "metadata": {},
   "outputs": [],
   "source": [
    "def outlier_ejector(dataframe, column, k=1.5):\n",
    "    \"\"\"\n",
    "    This function takes in a dataframe and looks for upper outliers.\n",
    "    \"\"\"\n",
    "    q1, q3  = dataframe[column].quantile(q=[0.25, 0.75])\n",
    "    iqr = q3 - q1\n",
    "    \n",
    "    \n",
    "    lower_bound = q1 - (k * iqr)\n",
    "    upper_bound = q3 + (k * iqr)\n",
    "    \n",
    "    high_items = dataframe[column] > upper_bound\n",
    "    low_items = dataframe[column] < lower_bound\n",
    "\n",
    "    \n",
    "    return dataframe[~low_items & ~high_items]"
   ]
  },
  {
   "cell_type": "code",
   "execution_count": 14,
   "id": "16a4079e-ccb0-4b80-8b3c-71e512d57a90",
   "metadata": {},
   "outputs": [],
   "source": [
    "def outlier_detector(dataframe, column, k=1.5):\n",
    "    \"\"\"\n",
    "    This function takes in a dataframe and looks for upper outliers.\n",
    "    \"\"\"\n",
    "    q1, q3  = dataframe[column].quantile(q=[0.25, 0.75])\n",
    "    iqr = q3 - q1\n",
    "    \n",
    "    \n",
    "    lower_bound = q1 - (k * iqr)\n",
    "    upper_bound = q3 + (k * iqr)\n",
    "    \n",
    "    high_items = dataframe[column] > upper_bound\n",
    "    low_items = dataframe[column] < lower_bound\n",
    "\n",
    "    \n",
    "    return dataframe[low_items & high_items]"
   ]
  },
  {
   "cell_type": "code",
   "execution_count": 15,
   "id": "5b64005a-3f1a-4d8d-9732-90f0ae2edab3",
   "metadata": {},
   "outputs": [],
   "source": [
    "new_df = outlier_ejector(df, 'annual_income')"
   ]
  },
  {
   "cell_type": "code",
   "execution_count": 16,
   "id": "8051a27c-aa2a-4878-b738-7ebd02d14657",
   "metadata": {},
   "outputs": [],
   "source": [
    "outlier_df = outlier_detector(df, 'annual_income')"
   ]
  },
  {
   "cell_type": "code",
   "execution_count": 17,
   "id": "b787d9f5-2ff7-4a7a-a4d1-102d85592b88",
   "metadata": {},
   "outputs": [
    {
     "data": {
      "text/html": [
       "<div>\n",
       "<style scoped>\n",
       "    .dataframe tbody tr th:only-of-type {\n",
       "        vertical-align: middle;\n",
       "    }\n",
       "\n",
       "    .dataframe tbody tr th {\n",
       "        vertical-align: top;\n",
       "    }\n",
       "\n",
       "    .dataframe thead th {\n",
       "        text-align: right;\n",
       "    }\n",
       "</style>\n",
       "<table border=\"1\" class=\"dataframe\">\n",
       "  <thead>\n",
       "    <tr style=\"text-align: right;\">\n",
       "      <th></th>\n",
       "      <th>customer_id</th>\n",
       "      <th>gender</th>\n",
       "      <th>age</th>\n",
       "      <th>annual_income</th>\n",
       "      <th>spending_score</th>\n",
       "    </tr>\n",
       "  </thead>\n",
       "  <tbody>\n",
       "    <tr>\n",
       "      <th>0</th>\n",
       "      <td>1</td>\n",
       "      <td>Male</td>\n",
       "      <td>19</td>\n",
       "      <td>15</td>\n",
       "      <td>39</td>\n",
       "    </tr>\n",
       "    <tr>\n",
       "      <th>1</th>\n",
       "      <td>2</td>\n",
       "      <td>Male</td>\n",
       "      <td>21</td>\n",
       "      <td>15</td>\n",
       "      <td>81</td>\n",
       "    </tr>\n",
       "    <tr>\n",
       "      <th>2</th>\n",
       "      <td>3</td>\n",
       "      <td>Female</td>\n",
       "      <td>20</td>\n",
       "      <td>16</td>\n",
       "      <td>6</td>\n",
       "    </tr>\n",
       "    <tr>\n",
       "      <th>3</th>\n",
       "      <td>4</td>\n",
       "      <td>Female</td>\n",
       "      <td>23</td>\n",
       "      <td>16</td>\n",
       "      <td>77</td>\n",
       "    </tr>\n",
       "    <tr>\n",
       "      <th>4</th>\n",
       "      <td>5</td>\n",
       "      <td>Female</td>\n",
       "      <td>31</td>\n",
       "      <td>17</td>\n",
       "      <td>40</td>\n",
       "    </tr>\n",
       "  </tbody>\n",
       "</table>\n",
       "</div>"
      ],
      "text/plain": [
       "   customer_id  gender  age  annual_income  spending_score\n",
       "0            1    Male   19             15              39\n",
       "1            2    Male   21             15              81\n",
       "2            3  Female   20             16               6\n",
       "3            4  Female   23             16              77\n",
       "4            5  Female   31             17              40"
      ]
     },
     "execution_count": 17,
     "metadata": {},
     "output_type": "execute_result"
    }
   ],
   "source": [
    "new_df.head()"
   ]
  },
  {
   "cell_type": "code",
   "execution_count": 18,
   "id": "6135730b-9a2c-4f4b-8ffb-fb3b55d5b888",
   "metadata": {},
   "outputs": [],
   "source": [
    "age_bins = [0,25,35,45,55,70]\n",
    "age_labels = [25,35,45,55,70]"
   ]
  },
  {
   "cell_type": "code",
   "execution_count": 19,
   "id": "488a078a-6b8f-4abe-965a-199030a70129",
   "metadata": {},
   "outputs": [],
   "source": [
    "#df['age_bins'] = pd.cut(x= df.age, bins=age_bins, labels=age_labels)"
   ]
  },
  {
   "cell_type": "code",
   "execution_count": 20,
   "id": "b854e6d9-53b5-4408-8257-94333dc48e28",
   "metadata": {
    "tags": []
   },
   "outputs": [],
   "source": [
    "#df = pd.get_dummies(data=df,columns=['gender','age_bins'])"
   ]
  },
  {
   "cell_type": "code",
   "execution_count": 21,
   "id": "72474ff1-1b16-46a9-b590-104039d863fa",
   "metadata": {},
   "outputs": [],
   "source": [
    "train, val, test = prepare.train_validate(df)"
   ]
  },
  {
   "cell_type": "code",
   "execution_count": 22,
   "id": "e6831cbc-1427-4850-980c-9ddeeea56a41",
   "metadata": {},
   "outputs": [],
   "source": [
    "cont_columns = ['annual_income','spending_score', 'age']"
   ]
  },
  {
   "cell_type": "code",
   "execution_count": 23,
   "id": "b98c6470-f0fe-4586-b013-6d2f2d2b2892",
   "metadata": {},
   "outputs": [],
   "source": [
    "train_scaled, val_scaled, test_scaled = prepare.scale_zillow(train, val, test, cont_columns, scaler_model = 1)"
   ]
  },
  {
   "cell_type": "code",
   "execution_count": 24,
   "id": "9ecc0fc4-1863-41e5-ba17-2d0dcd88fcfc",
   "metadata": {},
   "outputs": [
    {
     "data": {
      "text/html": [
       "<div>\n",
       "<style scoped>\n",
       "    .dataframe tbody tr th:only-of-type {\n",
       "        vertical-align: middle;\n",
       "    }\n",
       "\n",
       "    .dataframe tbody tr th {\n",
       "        vertical-align: top;\n",
       "    }\n",
       "\n",
       "    .dataframe thead th {\n",
       "        text-align: right;\n",
       "    }\n",
       "</style>\n",
       "<table border=\"1\" class=\"dataframe\">\n",
       "  <thead>\n",
       "    <tr style=\"text-align: right;\">\n",
       "      <th></th>\n",
       "      <th>customer_id</th>\n",
       "      <th>gender</th>\n",
       "      <th>age</th>\n",
       "      <th>annual_income</th>\n",
       "      <th>spending_score</th>\n",
       "    </tr>\n",
       "  </thead>\n",
       "  <tbody>\n",
       "    <tr>\n",
       "      <th>109</th>\n",
       "      <td>110</td>\n",
       "      <td>Male</td>\n",
       "      <td>0.96</td>\n",
       "      <td>0.545455</td>\n",
       "      <td>0.489130</td>\n",
       "    </tr>\n",
       "    <tr>\n",
       "      <th>135</th>\n",
       "      <td>136</td>\n",
       "      <td>Female</td>\n",
       "      <td>0.22</td>\n",
       "      <td>0.659091</td>\n",
       "      <td>0.923913</td>\n",
       "    </tr>\n",
       "    <tr>\n",
       "      <th>5</th>\n",
       "      <td>6</td>\n",
       "      <td>Female</td>\n",
       "      <td>0.08</td>\n",
       "      <td>0.022727</td>\n",
       "      <td>0.793478</td>\n",
       "    </tr>\n",
       "    <tr>\n",
       "      <th>127</th>\n",
       "      <td>128</td>\n",
       "      <td>Male</td>\n",
       "      <td>0.44</td>\n",
       "      <td>0.636364</td>\n",
       "      <td>1.000000</td>\n",
       "    </tr>\n",
       "    <tr>\n",
       "      <th>170</th>\n",
       "      <td>171</td>\n",
       "      <td>Male</td>\n",
       "      <td>0.44</td>\n",
       "      <td>0.818182</td>\n",
       "      <td>0.108696</td>\n",
       "    </tr>\n",
       "  </tbody>\n",
       "</table>\n",
       "</div>"
      ],
      "text/plain": [
       "     customer_id  gender   age  annual_income  spending_score\n",
       "109          110    Male  0.96       0.545455        0.489130\n",
       "135          136  Female  0.22       0.659091        0.923913\n",
       "5              6  Female  0.08       0.022727        0.793478\n",
       "127          128    Male  0.44       0.636364        1.000000\n",
       "170          171    Male  0.44       0.818182        0.108696"
      ]
     },
     "execution_count": 24,
     "metadata": {},
     "output_type": "execute_result"
    }
   ],
   "source": [
    "train_scaled.head()"
   ]
  },
  {
   "cell_type": "code",
   "execution_count": 25,
   "id": "a865e0ab-fc0a-484a-9bb9-3f43cc1d6830",
   "metadata": {},
   "outputs": [],
   "source": [
    "X = train[['age', 'annual_income']]"
   ]
  },
  {
   "cell_type": "code",
   "execution_count": 26,
   "id": "8c95f54e-2b12-450f-afdd-2ebb9c7f4258",
   "metadata": {},
   "outputs": [
    {
     "data": {
      "text/plain": [
       "array([2, 1, 0, 1, 1, 2, 1, 0, 1, 1, 2, 0, 2, 2, 1, 1, 0, 2, 2, 1, 0, 1,\n",
       "       1, 2, 2, 1, 1, 2, 1, 2, 1, 0, 1, 1, 1, 2, 2, 1, 2, 2, 1, 1, 1, 1,\n",
       "       1, 2, 1, 1, 2, 0, 2, 1, 2, 2, 0, 0, 0, 0, 1, 2, 2, 0, 2, 0, 1, 0,\n",
       "       1, 2, 0, 1, 2, 0, 1, 1, 1, 2, 1, 2, 0, 1, 0, 1, 2, 0], dtype=int32)"
      ]
     },
     "execution_count": 26,
     "metadata": {},
     "output_type": "execute_result"
    }
   ],
   "source": [
    "seed = 1969\n",
    "\n",
    "kmeans = KMeans(n_clusters=3, random_state=seed)\n",
    "\n",
    "kmeans.fit(X)\n",
    "\n",
    "kmeans.predict(X) #Outputs an array of clusters (0-2) for each row"
   ]
  },
  {
   "cell_type": "code",
   "execution_count": 27,
   "id": "9cefdebd-dd8d-4554-8f9c-e5d00b8abe35",
   "metadata": {},
   "outputs": [
    {
     "data": {
      "text/html": [
       "<div>\n",
       "<style scoped>\n",
       "    .dataframe tbody tr th:only-of-type {\n",
       "        vertical-align: middle;\n",
       "    }\n",
       "\n",
       "    .dataframe tbody tr th {\n",
       "        vertical-align: top;\n",
       "    }\n",
       "\n",
       "    .dataframe thead th {\n",
       "        text-align: right;\n",
       "    }\n",
       "</style>\n",
       "<table border=\"1\" class=\"dataframe\">\n",
       "  <thead>\n",
       "    <tr style=\"text-align: right;\">\n",
       "      <th></th>\n",
       "      <th>age</th>\n",
       "      <th>annual_income</th>\n",
       "      <th>unscaled_clusters</th>\n",
       "    </tr>\n",
       "  </thead>\n",
       "  <tbody>\n",
       "    <tr>\n",
       "      <th>109</th>\n",
       "      <td>66</td>\n",
       "      <td>63</td>\n",
       "      <td>2</td>\n",
       "    </tr>\n",
       "    <tr>\n",
       "      <th>135</th>\n",
       "      <td>29</td>\n",
       "      <td>73</td>\n",
       "      <td>1</td>\n",
       "    </tr>\n",
       "    <tr>\n",
       "      <th>5</th>\n",
       "      <td>22</td>\n",
       "      <td>17</td>\n",
       "      <td>0</td>\n",
       "    </tr>\n",
       "    <tr>\n",
       "      <th>127</th>\n",
       "      <td>40</td>\n",
       "      <td>71</td>\n",
       "      <td>1</td>\n",
       "    </tr>\n",
       "    <tr>\n",
       "      <th>170</th>\n",
       "      <td>40</td>\n",
       "      <td>87</td>\n",
       "      <td>1</td>\n",
       "    </tr>\n",
       "  </tbody>\n",
       "</table>\n",
       "</div>"
      ],
      "text/plain": [
       "     age  annual_income  unscaled_clusters\n",
       "109   66             63                  2\n",
       "135   29             73                  1\n",
       "5     22             17                  0\n",
       "127   40             71                  1\n",
       "170   40             87                  1"
      ]
     },
     "execution_count": 27,
     "metadata": {},
     "output_type": "execute_result"
    }
   ],
   "source": [
    "X['unscaled_clusters'] = kmeans.predict(X)\n",
    "X.head()"
   ]
  },
  {
   "cell_type": "code",
   "execution_count": 28,
   "id": "6a3264fb-ec47-4d05-bc2a-505f4088d111",
   "metadata": {},
   "outputs": [
    {
     "data": {
      "text/plain": [
       "<seaborn.axisgrid.FacetGrid at 0x7fb041084e80>"
      ]
     },
     "execution_count": 28,
     "metadata": {},
     "output_type": "execute_result"
    },
    {
     "data": {
      "image/png": "[encoded data removed]",
      "text/plain": [
       "<Figure size 634.486x500 with 1 Axes>"
      ]
     },
     "metadata": {},
     "output_type": "display_data"
    }
   ],
   "source": [
    "sns.relplot(data=X, x='age', y='annual_income', hue='unscaled_clusters')"
   ]
  },
  {
   "cell_type": "code",
   "execution_count": 29,
   "id": "fc7e075d-101f-4cf3-9490-16c2ba6add6c",
   "metadata": {},
   "outputs": [
    {
     "data": {
      "text/html": [
       "<div>\n",
       "<style scoped>\n",
       "    .dataframe tbody tr th:only-of-type {\n",
       "        vertical-align: middle;\n",
       "    }\n",
       "\n",
       "    .dataframe tbody tr th {\n",
       "        vertical-align: top;\n",
       "    }\n",
       "\n",
       "    .dataframe thead th {\n",
       "        text-align: right;\n",
       "    }\n",
       "</style>\n",
       "<table border=\"1\" class=\"dataframe\">\n",
       "  <thead>\n",
       "    <tr style=\"text-align: right;\">\n",
       "      <th></th>\n",
       "      <th>age</th>\n",
       "      <th>annual_income</th>\n",
       "      <th>scaled_clusters</th>\n",
       "    </tr>\n",
       "  </thead>\n",
       "  <tbody>\n",
       "    <tr>\n",
       "      <th>109</th>\n",
       "      <td>0.96</td>\n",
       "      <td>0.545455</td>\n",
       "      <td>1</td>\n",
       "    </tr>\n",
       "    <tr>\n",
       "      <th>135</th>\n",
       "      <td>0.22</td>\n",
       "      <td>0.659091</td>\n",
       "      <td>0</td>\n",
       "    </tr>\n",
       "    <tr>\n",
       "      <th>5</th>\n",
       "      <td>0.08</td>\n",
       "      <td>0.022727</td>\n",
       "      <td>2</td>\n",
       "    </tr>\n",
       "    <tr>\n",
       "      <th>127</th>\n",
       "      <td>0.44</td>\n",
       "      <td>0.636364</td>\n",
       "      <td>0</td>\n",
       "    </tr>\n",
       "    <tr>\n",
       "      <th>170</th>\n",
       "      <td>0.44</td>\n",
       "      <td>0.818182</td>\n",
       "      <td>0</td>\n",
       "    </tr>\n",
       "  </tbody>\n",
       "</table>\n",
       "</div>"
      ],
      "text/plain": [
       "      age  annual_income  scaled_clusters\n",
       "109  0.96       0.545455                1\n",
       "135  0.22       0.659091                0\n",
       "5    0.08       0.022727                2\n",
       "127  0.44       0.636364                0\n",
       "170  0.44       0.818182                0"
      ]
     },
     "execution_count": 29,
     "metadata": {},
     "output_type": "execute_result"
    }
   ],
   "source": [
    "X = train_scaled[['age', 'annual_income']]\n",
    "\n",
    "seed = 1969\n",
    "\n",
    "kmeans_scaled = KMeans(n_clusters=3, random_state=seed)\n",
    "\n",
    "kmeans_scaled.fit(X[['age', 'annual_income']])\n",
    "\n",
    "kmeans_scaled.predict(X[['age', 'annual_income']]) #Outputs an array of clusters (0-2) for each row\n",
    "\n",
    "X['scaled_clusters'] = kmeans_scaled.predict(X)\n",
    "X.head()"
   ]
  },
  {
   "cell_type": "code",
   "execution_count": 30,
   "id": "d5b9daec-4281-411e-aaf5-9ad49466e281",
   "metadata": {},
   "outputs": [
    {
     "data": {
      "text/plain": [
       "<seaborn.axisgrid.FacetGrid at 0x7fb041084340>"
      ]
     },
     "execution_count": 30,
     "metadata": {},
     "output_type": "execute_result"
    },
    {
     "data": {
      "image/png": "[encoded data removed]",
      "text/plain": [
       "<Figure size 616.986x500 with 1 Axes>"
      ]
     },
     "metadata": {},
     "output_type": "display_data"
    }
   ],
   "source": [
    "sns.relplot(data=X, x='age', y='annual_income', hue='scaled_clusters')"
   ]
  },
  {
   "cell_type": "markdown",
   "id": "71188b19-1852-4169-bace-ff262714ac5a",
   "metadata": {},
   "source": [
    "Should drop origonal columns so the machine learning algo doesn't double dip. Could have no affect on the model results."
   ]
  },
  {
   "cell_type": "code",
   "execution_count": 31,
   "id": "322d8004-77b0-4ece-a1e9-232d05d39b88",
   "metadata": {},
   "outputs": [
    {
     "data": {
      "text/plain": [
       "array([[0.25166667, 0.68592172],\n",
       "       [0.75870968, 0.40652493],\n",
       "       [0.15058824, 0.17513369]])"
      ]
     },
     "execution_count": 31,
     "metadata": {},
     "output_type": "execute_result"
    }
   ],
   "source": [
    "kmeans_scaled.cluster_centers_"
   ]
  },
  {
   "cell_type": "code",
   "execution_count": 32,
   "id": "b591db0f-2c8f-473b-8a37-9e5184b1e342",
   "metadata": {},
   "outputs": [
    {
     "data": {
      "text/plain": [
       "array([[28.        , 29.73684211],\n",
       "       [31.16216216, 75.7027027 ],\n",
       "       [56.57142857, 51.35714286]])"
      ]
     },
     "execution_count": 32,
     "metadata": {},
     "output_type": "execute_result"
    }
   ],
   "source": [
    "kmeans.cluster_centers_"
   ]
  },
  {
   "cell_type": "code",
   "execution_count": 33,
   "id": "b661d713-3a3d-4f11-9b90-c3145a043134",
   "metadata": {},
   "outputs": [
    {
     "data": {
      "text/plain": [
       "3.6936523391256886"
      ]
     },
     "execution_count": 33,
     "metadata": {},
     "output_type": "execute_result"
    }
   ],
   "source": [
    "kmeans_scaled.inertia_"
   ]
  },
  {
   "cell_type": "code",
   "execution_count": 34,
   "id": "f2090a3e-7bce-4d0a-b5bc-113e841bd13d",
   "metadata": {},
   "outputs": [
    {
     "data": {
      "text/plain": [
       "18001.726681568787"
      ]
     },
     "execution_count": 34,
     "metadata": {},
     "output_type": "execute_result"
    }
   ],
   "source": [
    "kmeans.inertia_"
   ]
  },
  {
   "cell_type": "code",
   "execution_count": 38,
   "id": "ffd78f33-7d3f-4b49-9b8d-3edbc5cf103f",
   "metadata": {},
   "outputs": [
    {
     "data": {
      "text/plain": [
       "[{'n_clusters': 1, 'inertia': 12.777780145611963},\n",
       " {'n_clusters': 2, 'inertia': 6.824335546495778},\n",
       " {'n_clusters': 3, 'inertia': 3.6936523391256886},\n",
       " {'n_clusters': 4, 'inertia': 2.8699786203517217},\n",
       " {'n_clusters': 5, 'inertia': 2.059022469804037},\n",
       " {'n_clusters': 6, 'inertia': 1.5683138550613756},\n",
       " {'n_clusters': 7, 'inertia': 1.3446556266736018},\n",
       " {'n_clusters': 8, 'inertia': 1.132700999955623},\n",
       " {'n_clusters': 9, 'inertia': 0.9847813189272847},\n",
       " {'n_clusters': 10, 'inertia': 0.8935348997782522}]"
      ]
     },
     "execution_count": 38,
     "metadata": {},
     "output_type": "execute_result"
    }
   ],
   "source": [
    "inertia = []\n",
    "\n",
    "for n in range(1, 11):\n",
    "    \n",
    "    kmeans = KMeans(n_clusters=n, random_state=seed)\n",
    "    \n",
    "    kmeans.fit(X[['age', 'annual_income']])\n",
    "    \n",
    "    inertia.append({'n_clusters': n,\n",
    "                    'inertia': kmeans.inertia_})\n",
    "    \n",
    "inertia"
   ]
  },
  {
   "cell_type": "code",
   "execution_count": 42,
   "id": "fb26c4a7-f155-465d-b50a-de273aac258b",
   "metadata": {},
   "outputs": [],
   "source": [
    "inertia = pd.DataFrame(inertia)"
   ]
  },
  {
   "cell_type": "code",
   "execution_count": 48,
   "id": "659d01ed-398a-4f95-8696-048451f45119",
   "metadata": {},
   "outputs": [
    {
     "data": {
      "text/plain": [
       "<seaborn.axisgrid.FacetGrid at 0x7fb042849490>"
      ]
     },
     "execution_count": 48,
     "metadata": {},
     "output_type": "execute_result"
    },
    {
     "data": {
      "image/png": "[encoded data removed]",
      "text/plain": [
       "<Figure size 500x500 with 1 Axes>"
      ]
     },
     "metadata": {},
     "output_type": "display_data"
    }
   ],
   "source": [
    "sns.relplot(data=inertia, x='n_clusters', y='inertia', kind='line', marker='o')"
   ]
  },
  {
   "cell_type": "markdown",
   "id": "e1473236-8d0f-4671-8905-ecb09eef44e2",
   "metadata": {},
   "source": [
    "### Looking for the most acute angle. How to do that in math?\n",
    "- The number of clusters is specific to these specific features.\n",
    "- Number of angles is n-1 points.\n",
    "- num_angles = len(df)-1"
   ]
  },
  {
   "cell_type": "code",
   "execution_count": null,
   "id": "400d0cb3-058e-4888-8d92-e7c4c021b126",
   "metadata": {},
   "outputs": [],
   "source": []
  }
 ],
 "metadata": {
  "kernelspec": {
   "display_name": "Python 3 (ipykernel)",
   "language": "python",
   "name": "python3"
  },
  "language_info": {
   "codemirror_mode": {
    "name": "ipython",
    "version": 3
   },
   "file_extension": ".py",
   "mimetype": "text/x-python",
   "name": "python",
   "nbconvert_exporter": "python",
   "pygments_lexer": "ipython3",
   "version": "3.9.15"
  }
 },
 "nbformat": 4,
 "nbformat_minor": 5
}
