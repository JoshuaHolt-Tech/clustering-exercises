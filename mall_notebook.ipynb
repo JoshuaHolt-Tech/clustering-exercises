{
 "cells": [
  {
   "cell_type": "code",
   "execution_count": 1,
   "id": "fbc57b41-7afb-433c-a102-bb08b7ae527c",
   "metadata": {},
   "outputs": [],
   "source": [
    "import pandas as pd\n",
    "import numpy as np\n",
    "import env\n",
    "\n",
    "import pandas as pd\n",
    "import numpy as np\n",
    "\n",
    "import matplotlib.pyplot as plt\n",
    "\n",
    "import env\n",
    "import acquire\n",
    "import prepare"
   ]
  },
  {
   "cell_type": "code",
   "execution_count": 2,
   "id": "7bbbc9cd-a117-46a2-99f6-d7cb968810c6",
   "metadata": {},
   "outputs": [],
   "source": [
    "df = acquire.wrangle_mall()"
   ]
  },
  {
   "cell_type": "code",
   "execution_count": 3,
   "id": "1b4414b4-7e4d-48c2-873e-1fa0f5b98ae6",
   "metadata": {},
   "outputs": [
    {
     "name": "stdout",
     "output_type": "stream",
     "text": [
      "<class 'pandas.core.frame.DataFrame'>\n",
      "RangeIndex: 200 entries, 0 to 199\n",
      "Data columns (total 5 columns):\n",
      " #   Column          Non-Null Count  Dtype \n",
      "---  ------          --------------  ----- \n",
      " 0   customer_id     200 non-null    int64 \n",
      " 1   gender          200 non-null    object\n",
      " 2   age             200 non-null    int64 \n",
      " 3   annual_income   200 non-null    int64 \n",
      " 4   spending_score  200 non-null    int64 \n",
      "dtypes: int64(4), object(1)\n",
      "memory usage: 7.9+ KB\n"
     ]
    }
   ],
   "source": [
    "df.info()"
   ]
  },
  {
   "cell_type": "code",
   "execution_count": 4,
   "id": "6ba6e28d-7b41-46d2-b35d-21e7d09b9f68",
   "metadata": {},
   "outputs": [
    {
     "data": {
      "text/html": [
       "<div>\n",
       "<style scoped>\n",
       "    .dataframe tbody tr th:only-of-type {\n",
       "        vertical-align: middle;\n",
       "    }\n",
       "\n",
       "    .dataframe tbody tr th {\n",
       "        vertical-align: top;\n",
       "    }\n",
       "\n",
       "    .dataframe thead th {\n",
       "        text-align: right;\n",
       "    }\n",
       "</style>\n",
       "<table border=\"1\" class=\"dataframe\">\n",
       "  <thead>\n",
       "    <tr style=\"text-align: right;\">\n",
       "      <th></th>\n",
       "      <th>customer_id</th>\n",
       "      <th>age</th>\n",
       "      <th>annual_income</th>\n",
       "      <th>spending_score</th>\n",
       "    </tr>\n",
       "  </thead>\n",
       "  <tbody>\n",
       "    <tr>\n",
       "      <th>count</th>\n",
       "      <td>200.000000</td>\n",
       "      <td>200.000000</td>\n",
       "      <td>200.000000</td>\n",
       "      <td>200.000000</td>\n",
       "    </tr>\n",
       "    <tr>\n",
       "      <th>mean</th>\n",
       "      <td>100.500000</td>\n",
       "      <td>38.850000</td>\n",
       "      <td>60.560000</td>\n",
       "      <td>50.200000</td>\n",
       "    </tr>\n",
       "    <tr>\n",
       "      <th>std</th>\n",
       "      <td>57.879185</td>\n",
       "      <td>13.969007</td>\n",
       "      <td>26.264721</td>\n",
       "      <td>25.823522</td>\n",
       "    </tr>\n",
       "    <tr>\n",
       "      <th>min</th>\n",
       "      <td>1.000000</td>\n",
       "      <td>18.000000</td>\n",
       "      <td>15.000000</td>\n",
       "      <td>1.000000</td>\n",
       "    </tr>\n",
       "    <tr>\n",
       "      <th>25%</th>\n",
       "      <td>50.750000</td>\n",
       "      <td>28.750000</td>\n",
       "      <td>41.500000</td>\n",
       "      <td>34.750000</td>\n",
       "    </tr>\n",
       "    <tr>\n",
       "      <th>50%</th>\n",
       "      <td>100.500000</td>\n",
       "      <td>36.000000</td>\n",
       "      <td>61.500000</td>\n",
       "      <td>50.000000</td>\n",
       "    </tr>\n",
       "    <tr>\n",
       "      <th>75%</th>\n",
       "      <td>150.250000</td>\n",
       "      <td>49.000000</td>\n",
       "      <td>78.000000</td>\n",
       "      <td>73.000000</td>\n",
       "    </tr>\n",
       "    <tr>\n",
       "      <th>max</th>\n",
       "      <td>200.000000</td>\n",
       "      <td>70.000000</td>\n",
       "      <td>137.000000</td>\n",
       "      <td>99.000000</td>\n",
       "    </tr>\n",
       "  </tbody>\n",
       "</table>\n",
       "</div>"
      ],
      "text/plain": [
       "       customer_id         age  annual_income  spending_score\n",
       "count   200.000000  200.000000     200.000000      200.000000\n",
       "mean    100.500000   38.850000      60.560000       50.200000\n",
       "std      57.879185   13.969007      26.264721       25.823522\n",
       "min       1.000000   18.000000      15.000000        1.000000\n",
       "25%      50.750000   28.750000      41.500000       34.750000\n",
       "50%     100.500000   36.000000      61.500000       50.000000\n",
       "75%     150.250000   49.000000      78.000000       73.000000\n",
       "max     200.000000   70.000000     137.000000       99.000000"
      ]
     },
     "execution_count": 4,
     "metadata": {},
     "output_type": "execute_result"
    }
   ],
   "source": [
    "df.describe()"
   ]
  },
  {
   "cell_type": "code",
   "execution_count": 5,
   "id": "6ea3a086-267e-4304-976a-03c32bff289a",
   "metadata": {},
   "outputs": [
    {
     "data": {
      "text/plain": [
       "(200, 5)"
      ]
     },
     "execution_count": 5,
     "metadata": {},
     "output_type": "execute_result"
    }
   ],
   "source": [
    "df.shape"
   ]
  },
  {
   "cell_type": "code",
   "execution_count": 6,
   "id": "6d85d860-d83f-402f-8ed1-99a0ed62009e",
   "metadata": {},
   "outputs": [
    {
     "ename": "TypeError",
     "evalue": "'method' object is not iterable",
     "output_type": "error",
     "traceback": [
      "\u001b[0;31m---------------------------------------------------------------------------\u001b[0m",
      "\u001b[0;31mTypeError\u001b[0m                                 Traceback (most recent call last)",
      "\u001b[0;32m/var/folders/sg/9h_lqlfd6bgb63_prv2nr4mm0000gn/T/ipykernel_9750/709424226.py\u001b[0m in \u001b[0;36m<module>\u001b[0;34m\u001b[0m\n\u001b[1;32m      1\u001b[0m \u001b[0mcols\u001b[0m \u001b[0;34m=\u001b[0m \u001b[0mdf\u001b[0m\u001b[0;34m.\u001b[0m\u001b[0mcolumns\u001b[0m\u001b[0;34m.\u001b[0m\u001b[0mto_list\u001b[0m\u001b[0;34m\u001b[0m\u001b[0;34m\u001b[0m\u001b[0m\n\u001b[1;32m      2\u001b[0m \u001b[0;34m\u001b[0m\u001b[0m\n\u001b[0;32m----> 3\u001b[0;31m \u001b[0;32mfor\u001b[0m \u001b[0mcol\u001b[0m \u001b[0;32min\u001b[0m \u001b[0mcols\u001b[0m\u001b[0;34m:\u001b[0m\u001b[0;34m\u001b[0m\u001b[0;34m\u001b[0m\u001b[0m\n\u001b[0m\u001b[1;32m      4\u001b[0m     \u001b[0mplt\u001b[0m\u001b[0;34m.\u001b[0m\u001b[0mhist\u001b[0m\u001b[0;34m(\u001b[0m\u001b[0mdf\u001b[0m\u001b[0;34m[\u001b[0m\u001b[0mcol\u001b[0m\u001b[0;34m]\u001b[0m\u001b[0;34m)\u001b[0m\u001b[0;34m\u001b[0m\u001b[0;34m\u001b[0m\u001b[0m\n",
      "\u001b[0;31mTypeError\u001b[0m: 'method' object is not iterable"
     ]
    }
   ],
   "source": [
    "cols = df.columns.to_list\n",
    "\n",
    "for col in cols:\n",
    "    plt.hist(df[col])"
   ]
  },
  {
   "cell_type": "code",
   "execution_count": null,
   "id": "5fcfe42b-e7bd-4559-ab9b-35e06460c7fc",
   "metadata": {},
   "outputs": [],
   "source": [
    "#q1, q3 = df['spending_score'].quantile([0.25, 0.75])\n",
    "#q1, q3"
   ]
  },
  {
   "cell_type": "code",
   "execution_count": null,
   "id": "c63bbf17-5c36-49e4-9e78-097f499ab8d9",
   "metadata": {},
   "outputs": [],
   "source": [
    "k=1.5\n",
    "#column"
   ]
  },
  {
   "cell_type": "code",
   "execution_count": null,
   "id": "f856a933-d824-4084-84c0-eb56eecf3f23",
   "metadata": {},
   "outputs": [],
   "source": [
    "q1, q3  = df['annual_income'].quantile(q=[0.25, 0.75])\n",
    "iqr = q3 - q1"
   ]
  },
  {
   "cell_type": "code",
   "execution_count": null,
   "id": "5f2d660f-7d09-4cdc-a624-75dcc7703afd",
   "metadata": {},
   "outputs": [],
   "source": [
    "lower_bound = q1 - (k * iqr)\n",
    "upper_bound = q3 + (k * iqr)"
   ]
  },
  {
   "cell_type": "code",
   "execution_count": null,
   "id": "acde7aad-d4cc-4b66-a5c4-1e6d691897e8",
   "metadata": {},
   "outputs": [],
   "source": [
    "high_items = df['annual_income'] > upper_bound\n",
    "low_items = df['annual_income'] < lower_bound"
   ]
  },
  {
   "cell_type": "code",
   "execution_count": null,
   "id": "8a73a057-83e4-4ed0-83eb-45c57c1f1cbe",
   "metadata": {},
   "outputs": [],
   "source": [
    "df[~high_items & ~low_items]"
   ]
  },
  {
   "cell_type": "code",
   "execution_count": null,
   "id": "a1fb6ac6-c174-4fd6-9599-3ac918ab6723",
   "metadata": {},
   "outputs": [],
   "source": [
    "def outlier_ejector(dataframe, column, k=1.5):\n",
    "    \"\"\"\n",
    "    This function takes in a dataframe and looks for upper outliers.\n",
    "    \"\"\"\n",
    "    q1, q3  = dataframe[column].quantile(q=[0.25, 0.75])\n",
    "    iqr = q3 - q1\n",
    "    \n",
    "    \n",
    "    lower_bound = q1 - (k * iqr)\n",
    "    upper_bound = q3 + (k * iqr)\n",
    "    \n",
    "    high_items = dataframe[column] > upper_bound\n",
    "    low_items = dataframe[column] < lower_bound\n",
    "\n",
    "    \n",
    "    return dataframe[~low_items & ~high_items]"
   ]
  },
  {
   "cell_type": "code",
   "execution_count": null,
   "id": "16a4079e-ccb0-4b80-8b3c-71e512d57a90",
   "metadata": {},
   "outputs": [],
   "source": [
    "def outlier_detector(dataframe, column, k=1.5):\n",
    "    \"\"\"\n",
    "    This function takes in a dataframe and looks for upper outliers.\n",
    "    \"\"\"\n",
    "    q1, q3  = dataframe[column].quantile(q=[0.25, 0.75])\n",
    "    iqr = q3 - q1\n",
    "    \n",
    "    \n",
    "    lower_bound = q1 - (k * iqr)\n",
    "    upper_bound = q3 + (k * iqr)\n",
    "    \n",
    "    high_items = dataframe[column] > upper_bound\n",
    "    low_items = dataframe[column] < lower_bound\n",
    "\n",
    "    \n",
    "    return dataframe[low_items & high_items]"
   ]
  },
  {
   "cell_type": "code",
   "execution_count": null,
   "id": "5b64005a-3f1a-4d8d-9732-90f0ae2edab3",
   "metadata": {},
   "outputs": [],
   "source": [
    "new_df = outlier_ejector(df, 'annual_income')"
   ]
  },
  {
   "cell_type": "code",
   "execution_count": null,
   "id": "8051a27c-aa2a-4878-b738-7ebd02d14657",
   "metadata": {},
   "outputs": [],
   "source": [
    "outlier_df = outlier_detector(df, 'annual_income')"
   ]
  },
  {
   "cell_type": "code",
   "execution_count": null,
   "id": "b787d9f5-2ff7-4a7a-a4d1-102d85592b88",
   "metadata": {},
   "outputs": [],
   "source": [
    "new_df.head()"
   ]
  },
  {
   "cell_type": "code",
   "execution_count": null,
   "id": "6135730b-9a2c-4f4b-8ffb-fb3b55d5b888",
   "metadata": {},
   "outputs": [],
   "source": [
    "age_bins = [0,25,35,45,55,70]\n",
    "age_labels = [25,35,45,55,70]"
   ]
  },
  {
   "cell_type": "code",
   "execution_count": null,
   "id": "488a078a-6b8f-4abe-965a-199030a70129",
   "metadata": {},
   "outputs": [],
   "source": [
    "df['age_bins'] = pd.cut(x= df.age, bins=age_bins, labels=age_labels)"
   ]
  },
  {
   "cell_type": "code",
   "execution_count": null,
   "id": "b854e6d9-53b5-4408-8257-94333dc48e28",
   "metadata": {
    "tags": []
   },
   "outputs": [],
   "source": [
    "df = pd.get_dummies(data=df,columns=['gender','age_bins'])"
   ]
  },
  {
   "cell_type": "code",
   "execution_count": null,
   "id": "72474ff1-1b16-46a9-b590-104039d863fa",
   "metadata": {},
   "outputs": [],
   "source": [
    "train, val, test = prepare.train_validate(df)"
   ]
  },
  {
   "cell_type": "code",
   "execution_count": null,
   "id": "e6831cbc-1427-4850-980c-9ddeeea56a41",
   "metadata": {},
   "outputs": [],
   "source": [
    "cont_columns = ['annual_income','spending_score']"
   ]
  },
  {
   "cell_type": "code",
   "execution_count": null,
   "id": "b98c6470-f0fe-4586-b013-6d2f2d2b2892",
   "metadata": {},
   "outputs": [],
   "source": [
    "train_scaled, val_scaled, test_scaled = prepare.scale_zillow(train, val, test, cont_columns, scaler_model = 1)"
   ]
  },
  {
   "cell_type": "code",
   "execution_count": null,
   "id": "9ecc0fc4-1863-41e5-ba17-2d0dcd88fcfc",
   "metadata": {},
   "outputs": [],
   "source": [
    "train_scaled.head()"
   ]
  },
  {
   "cell_type": "code",
   "execution_count": null,
   "id": "a865e0ab-fc0a-484a-9bb9-3f43cc1d6830",
   "metadata": {},
   "outputs": [],
   "source": []
  }
 ],
 "metadata": {
  "kernelspec": {
   "display_name": "Python 3 (ipykernel)",
   "language": "python",
   "name": "python3"
  },
  "language_info": {
   "codemirror_mode": {
    "name": "ipython",
    "version": 3
   },
   "file_extension": ".py",
   "mimetype": "text/x-python",
   "name": "python",
   "nbconvert_exporter": "python",
   "pygments_lexer": "ipython3",
   "version": "3.9.15"
  }
 },
 "nbformat": 4,
 "nbformat_minor": 5
}
